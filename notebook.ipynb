{
 "cells": [
  {
   "cell_type": "markdown",
   "id": "aacc93f8",
   "metadata": {},
   "source": [
    "# Day 1"
   ]
  },
  {
   "cell_type": "markdown",
   "id": "2fddf7e9",
   "metadata": {},
   "source": [
    "## Part 1"
   ]
  },
  {
   "cell_type": "code",
   "execution_count": 1,
   "id": "ff62e634",
   "metadata": {},
   "outputs": [
    {
     "name": "stdout",
     "output_type": "stream",
     "text": [
      "1292\n"
     ]
    }
   ],
   "source": [
    "with open(\"./inputs/input-1.txt\", \"r\") as file:\n",
    "    numbers = [int(line) for line in file]\n",
    "    increased_values = list(filter(lambda x: x[1] > x[0], zip(numbers, numbers[1:])))\n",
    "\n",
    "result = len(increased_values)\n",
    "print(result)\n",
    "assert result == 1292\n",
    "        "
   ]
  },
  {
   "cell_type": "markdown",
   "id": "1eed4919",
   "metadata": {},
   "source": [
    "## Part 2"
   ]
  },
  {
   "cell_type": "code",
   "execution_count": 2,
   "id": "f994e053",
   "metadata": {},
   "outputs": [
    {
     "name": "stdout",
     "output_type": "stream",
     "text": [
      "1262\n"
     ]
    }
   ],
   "source": [
    "with open(\"./inputs/input-1.txt\", \"r\") as file:\n",
    "    numbers = [int(line) for line in file]\n",
    "    triplets = list(zip(numbers, numbers[1:], numbers[2:]))\n",
    "    sums = list(map(lambda t: sum(t), triplets))\n",
    "    increased_values = list(filter(lambda x: x[1] > x[0], zip(sums, sums[1:])))\n",
    "    \n",
    "result = len(increased_values)\n",
    "print(result)\n",
    "assert result == 1262"
   ]
  },
  {
   "cell_type": "markdown",
   "id": "e580e7b1",
   "metadata": {},
   "source": [
    "# Day 2"
   ]
  },
  {
   "cell_type": "markdown",
   "id": "d72c541c",
   "metadata": {},
   "source": [
    "## Part 1"
   ]
  },
  {
   "cell_type": "code",
   "execution_count": 3,
   "id": "1630e738",
   "metadata": {},
   "outputs": [
    {
     "name": "stdout",
     "output_type": "stream",
     "text": [
      "1882980\n"
     ]
    }
   ],
   "source": [
    "def get_instruction_value(instruction, list):\n",
    "    return sum(map(lambda entry: int(entry[1]), filter(lambda entry: entry[0] == instruction, list)))\n",
    "\n",
    "with open(\"./inputs/input-2.txt\", \"r\") as file:\n",
    "    instructions = [tuple(line.split()) for line in file]\n",
    "\n",
    "forward, down, up = map(lambda dir: get_instruction_value(dir, instructions), ['forward', 'down', 'up'])\n",
    "\n",
    "result = forward * (down - up)\n",
    "\n",
    "print(result)\n",
    "assert result == 1882980"
   ]
  },
  {
   "cell_type": "markdown",
   "id": "6d3cc3d4",
   "metadata": {},
   "source": [
    "## Part 2"
   ]
  },
  {
   "cell_type": "markdown",
   "id": "d359bc33",
   "metadata": {},
   "source": [
    "Trying something new, using a generator function"
   ]
  },
  {
   "cell_type": "code",
   "execution_count": 4,
   "id": "d47957ff",
   "metadata": {},
   "outputs": [
    {
     "name": "stdout",
     "output_type": "stream",
     "text": [
      "1971232560\n"
     ]
    }
   ],
   "source": [
    "def movement_generator():\n",
    "    aim = 0\n",
    "    for line in open(\"./inputs/input-2.txt\", \"r\"):\n",
    "        instruction, value = tuple(line.split())\n",
    "        value = int(value)\n",
    "        if instruction == 'forward':\n",
    "            yield (aim, value)\n",
    "        else:\n",
    "            aim = aim + value if instruction == 'down' else aim - value\n",
    "\n",
    "horizontal = depth = 0\n",
    "\n",
    "for aim, value in movement_generator():\n",
    "    horizontal += value\n",
    "    depth += aim * value\n",
    "\n",
    "result = horizontal * depth\n",
    "\n",
    "print(result)\n",
    "assert result == 1971232560"
   ]
  },
  {
   "cell_type": "markdown",
   "id": "f57ced76",
   "metadata": {},
   "source": [
    "# Day 3"
   ]
  },
  {
   "cell_type": "markdown",
   "id": "81a0d800",
   "metadata": {},
   "source": [
    "## Part 1"
   ]
  },
  {
   "cell_type": "code",
   "execution_count": 5,
   "id": "6f0fb5a3",
   "metadata": {},
   "outputs": [
    {
     "name": "stdout",
     "output_type": "stream",
     "text": [
      "3374136\n"
     ]
    }
   ],
   "source": [
    "input_file = \"./inputs/input-3.txt\"\n",
    "\n",
    "numbers = []\n",
    "for line in open(input_file, \"r\"):\n",
    "    numbers.append(int(line, base=2))\n",
    "\n",
    "# Determine the given binary length\n",
    "bit_size = len(open(input_file, \"r\").readline().rstrip())\n",
    "\n",
    "# Index is zero-based from the LSB\n",
    "def get_most_common_bit(index, numbers):\n",
    "    cnt = 0\n",
    "    for number in numbers:\n",
    "        if (number >> index) & 1 == 1:\n",
    "            cnt += 1\n",
    "        # I could exit the loop earlier... However ¯\\_(ツ)_/¯\n",
    "    return int(cnt >= (len(numbers) / 2))\n",
    "\n",
    "def most_common_bits():\n",
    "    for idx in range(bit_size - 1, -1, -1):\n",
    "        yield (idx, get_most_common_bit(idx, numbers))\n",
    "\n",
    "gamma = epsilon = 0\n",
    "\n",
    "for idx, val in most_common_bits():\n",
    "    gamma |= val << idx\n",
    "\n",
    "# Flip all bits in gamma, don't question the logic\n",
    "epsilon = gamma ^ (2 ** bit_size - 1)\n",
    "result = epsilon * gamma\n",
    "\n",
    "print(result)\n",
    "assert result == 3374136"
   ]
  },
  {
   "cell_type": "markdown",
   "id": "c8a16ad3",
   "metadata": {},
   "source": [
    "## Part 2"
   ]
  },
  {
   "cell_type": "code",
   "execution_count": 6,
   "id": "1d2957b5",
   "metadata": {},
   "outputs": [
    {
     "name": "stdout",
     "output_type": "stream",
     "text": [
      "4432698\n"
     ]
    }
   ],
   "source": [
    "# Take read values from part 1\n",
    "co2_numbers = oxygen_numbers = numbers\n",
    "\n",
    "def filter_common_bit(index, numbers, lcb=False):\n",
    "    cb = get_most_common_bit(index, numbers)\n",
    "    cb = cb if not lcb else cb ^ 0b1\n",
    "    return list(filter(lambda x: (x >> index) & 1 == cb, numbers))\n",
    "\n",
    "oxygen_rating = 0\n",
    "co2_rating = 0\n",
    "\n",
    "# Probably this would be a case for reudce\n",
    "for i in range(bit_size - 1, -1, -1):\n",
    "    oxygen_numbers = filter_common_bit(i, oxygen_numbers)\n",
    "    co2_numbers = filter_common_bit(i, co2_numbers, True)\n",
    "    if len(oxygen_numbers) == 1:\n",
    "        oxygen_rating = oxygen_numbers[0]\n",
    "    if len(co2_numbers) == 1:\n",
    "        co2_rating = co2_numbers[0]\n",
    "\n",
    "result = oxygen_rating * co2_rating\n",
    "print(result)\n",
    "\n",
    "assert result == 4432698"
   ]
  },
  {
   "cell_type": "markdown",
   "id": "579bfe3d",
   "metadata": {},
   "source": [
    "# Day 4"
   ]
  },
  {
   "cell_type": "markdown",
   "id": "59d715e0",
   "metadata": {},
   "source": [
    "## Part 1"
   ]
  },
  {
   "cell_type": "code",
   "execution_count": 2,
   "id": "7be8fec0",
   "metadata": {},
   "outputs": [
    {
     "name": "stdout",
     "output_type": "stream",
     "text": [
      "45031\n"
     ]
    }
   ],
   "source": [
    "# TIL that it is possible to use type annotations in python\n",
    "from typing import List, Set, Iterable\n",
    "\n",
    "input_file = \"./inputs/input-4.txt\"\n",
    "\n",
    "bingo_fields = []\n",
    "with open(input_file, \"r\") as f:\n",
    "    # First line contains the drawn bingo numbers\n",
    "    bingo_numbers = [int(x) for x in f.readline().strip().split(\",\")]\n",
    "\n",
    "    # Afterwards read every block as a matrix\n",
    "    bingo_block = []\n",
    "    for line in f.readlines()[1:]:\n",
    "        line = line.strip()\n",
    "        if line:\n",
    "            bingo_block.append([int(x) for x in line.split()])\n",
    "        else:\n",
    "            bingo_fields.append(bingo_block)\n",
    "            bingo_block = []\n",
    "\n",
    "\n",
    "# Verify that the win condition for one specific bingo field is met\n",
    "# Does only verify vertical and horizontal completeness by using \n",
    "# set intersection.\n",
    "def win_condition_met(bingo_field: Iterable[Iterable[int]], drawn_numbers: Iterable[int]):\n",
    "    drawn_numbers = set(drawn_numbers)\n",
    "    for row in bingo_field:\n",
    "        if len(drawn_numbers.intersection(row)) == 5:\n",
    "            return True\n",
    "    for i in range(5):\n",
    "        col = [row[i] for row in bingo_field]\n",
    "        if len(drawn_numbers.intersection(col)) == 5:\n",
    "            return True\n",
    "    return False\n",
    "\n",
    "\n",
    "# Calculate the score of one specific bingo field with the drawn numbers\n",
    "def calculate_score(bingo_field: Iterable[Iterable[int]], drawn_numbers: Iterable[int]):\n",
    "    flatten_field = set(sum(bingo_field, []))                   # Unpack matrix\n",
    "    unmarked_numbers = flatten_field.difference(drawn_numbers)\n",
    "    winning_number = drawn_numbers[-1]                          # Last drawn number\n",
    "    return sum(unmarked_numbers) * winning_number\n",
    "\n",
    "\n",
    "\n",
    "drawn_numbers = []\n",
    "for number in bingo_numbers:\n",
    "    drawn_numbers.append(number)\n",
    "    # Find all fields where the win condition is met\n",
    "    winning_fields = [x for x in bingo_fields if win_condition_met(x, drawn_numbers)]\n",
    "    \n",
    "    # If there is a winner available\n",
    "    if len(winning_fields) >= 1:\n",
    "        winning_field = winning_fields[0]\n",
    "        winning_number = number\n",
    "        break\n",
    "\n",
    "result = calculate_score(winning_field, drawn_numbers)\n",
    "\n",
    "print(result)\n",
    "assert result == 45031\n"
   ]
  },
  {
   "cell_type": "markdown",
   "id": "ddcda818",
   "metadata": {},
   "source": [
    "## Part 2"
   ]
  },
  {
   "cell_type": "code",
   "execution_count": 3,
   "id": "9a9f6059",
   "metadata": {},
   "outputs": [
    {
     "name": "stdout",
     "output_type": "stream",
     "text": [
      "2568\n"
     ]
    }
   ],
   "source": [
    "# We're going backwards, so every number is drawn\n",
    "drawn_numbers = bingo_numbers\n",
    "\n",
    "# Remove all fields, that would not have won anyway\n",
    "winning_fields = [x for x in bingo_fields if win_condition_met(x, drawn_numbers)]\n",
    "\n",
    "# Loop backwars over the drawn bingo numbers, skip 1 position\n",
    "# Goal is to find the first bingo field that won't met the win condition anymore when\n",
    "# the drawn numbers are removed in reverse\n",
    "for i in range(len(bingo_numbers) - 2, 0, -1):\n",
    "    drawn_numbers = bingo_numbers[:i]\n",
    "    losing_bingo_fields = [x for x in winning_fields if not win_condition_met(x, drawn_numbers)]\n",
    "    # If we found a loser \n",
    "    if len(losing_bingo_fields) >= 1:\n",
    "        last_winning_field = losing_bingo_fields[0]\n",
    "        # We removed the number that was called for the win of this field, therefore + 1\n",
    "        winning_drawn_numbers = bingo_numbers[:i + 1]\n",
    "        break\n",
    "    \n",
    "\n",
    "result = calculate_score(last_winning_field, winning_drawn_numbers)\n",
    "print(result)\n",
    "\n",
    "assert result == 2568"
   ]
  },
  {
   "cell_type": "markdown",
   "id": "3499092d",
   "metadata": {},
   "source": [
    "# Day 5"
   ]
  },
  {
   "cell_type": "markdown",
   "id": "b3deb5c6",
   "metadata": {},
   "source": [
    "## Part 1"
   ]
  },
  {
   "cell_type": "code",
   "execution_count": 3,
   "id": "da995082",
   "metadata": {},
   "outputs": [
    {
     "name": "stdout",
     "output_type": "stream",
     "text": [
      "7436\n"
     ]
    }
   ],
   "source": [
    "from typing import List, Tuple, Set, Dict\n",
    "import re\n",
    "\n",
    "input_file = \"./inputs/input-5.txt\"\n",
    "\n",
    "with open(input_file, \"r\") as f:\n",
    "    # Just find all the digits and store them in a tuple\n",
    "    coordinates = [tuple([int (x) for x in re.findall('\\d+', line)]) for line in f.readlines()]\n",
    "\n",
    "# Filter out diagonals\n",
    "straight_lines = [c for c in coordinates if c[0] == c[2] or c[1] == c[3]]\n",
    "\n",
    "# This will be the \"grid\" in which the counting happens\n",
    "grid = {}\n",
    "\n",
    "# Take a input of one tuple entry and return all the points (as 2d-tuples) which \n",
    "# form a line on the grid\n",
    "# will only work with straight lines\n",
    "def expand_points(points: Tuple[int, int, int, int]) -> Set[Tuple[int, int]]:\n",
    "    x1, y1, x2, y2 = points\n",
    "    return {(x, y) for x in range(min(x1, x2), max(x2, x1) + 1) for y in range(min(y1, y2), max(y1, y2) + 1)}\n",
    "\n",
    "# Take a grid as input and count all the entries that are ticked more than once\n",
    "def count_overlapping_points(grid: Dict[Tuple[int, int], int]) -> int:\n",
    "    return len([g for g in grid.values() if g > 1])\n",
    "\n",
    "for c in straight_lines:\n",
    "    for p in expand_points(c):\n",
    "        grid[p] = grid.get(p, 0) + 1\n",
    "\n",
    "result = count_overlapping_points(grid)\n",
    "print(result)\n",
    "assert result == 7436"
   ]
  },
  {
   "cell_type": "markdown",
   "id": "5be6e915",
   "metadata": {},
   "source": [
    "## Part 2"
   ]
  },
  {
   "cell_type": "code",
   "execution_count": 4,
   "id": "1f3e7471",
   "metadata": {},
   "outputs": [
    {
     "name": "stdout",
     "output_type": "stream",
     "text": [
      "21104\n"
     ]
    }
   ],
   "source": [
    "from typing import Tuple, Set\n",
    "# Reset the grid\n",
    "grid = {}\n",
    "\n",
    "# For part 2 it is required to adjust the expand_points function\n",
    "# so that it will also work with diagonals\n",
    "def expand_points(points: Tuple[int, int, int, int]) -> Set[Tuple[int, int]]:\n",
    "    x1, y1, x2, y2 = points\n",
    "\n",
    "    # This will now only be the case for straight lines\n",
    "    if x1 == x2 or y1 == y2:\n",
    "        return {(x, y) for x in range(min(x1, x2), max(x2, x1) + 1) for y in range(min(y1, y2), max(y1, y2) + 1)}\n",
    "    # Otherwise it is diagonal at exactly 45 degrees\n",
    "    else:\n",
    "        # Well, this is some ugly piece of code. But since I noticed, that I don't have much fun anymore\n",
    "        # it is the solution for now -- will refactor it maybe later on\n",
    "        if x1 < x2:\n",
    "            if y1 < y2:\n",
    "                # Case (0,0 -> 8,8)\n",
    "                return {(x, y) for (x, y) in zip(range(x1, x2 + 1), range(y1, y2 + 1))}\n",
    "            else:\n",
    "                # Case (0,8 -> 8,0)\n",
    "                return {(x, y) for (x, y) in zip(range(x1, x2 + 1), range(y1, y2 - 1, -1))}\n",
    "        else: \n",
    "            if y1 < y2:\n",
    "                # Case (8,0) -> (0,8)\n",
    "                return {(x, y) for (x, y) in zip(range(x1, x2 - 1, -1), range(y1, y2 + 1))}\n",
    "            else:\n",
    "                # Case (8,8) -> (0,0)\n",
    "                return {(x, y) for (x, y) in zip(range(x1, x2 - 1, -1), range(y1, y2 - 1, -1))}\n",
    "\n",
    "# Now iterate over all coordinates\n",
    "for c in coordinates:\n",
    "    for p in expand_points(c):\n",
    "        grid[p] = grid.get(p, 0) + 1\n",
    "\n",
    "result = count_overlapping_points(grid)\n",
    "print(result)\n",
    "assert result == 21104"
   ]
  },
  {
   "cell_type": "markdown",
   "id": "e65f858e",
   "metadata": {},
   "source": [
    "# Day 6"
   ]
  },
  {
   "cell_type": "markdown",
   "id": "b362b93c",
   "metadata": {},
   "source": [
    "## Part 1"
   ]
  },
  {
   "cell_type": "code",
   "execution_count": 38,
   "id": "b9f5c51d",
   "metadata": {},
   "outputs": [
    {
     "name": "stdout",
     "output_type": "stream",
     "text": [
      "362666\n"
     ]
    }
   ],
   "source": [
    "from typing import Dict\n",
    "\n",
    "input_file = \"./inputs/input-6.txt\"\n",
    "\n",
    "input_fish_state = []\n",
    "with open(input_file, \"r\") as f:\n",
    "    input_fish_state = [int(x) for x in f.readline().strip().split(\",\")]\n",
    "\n",
    "# Define a initial dictionary in which the count of fish states will be stored\n",
    "fish_state = {\n",
    "    0: 0,\n",
    "    1: 0,\n",
    "    2: 0,\n",
    "    3: 0,\n",
    "    4: 0,\n",
    "    5: 0,\n",
    "    6: 0,\n",
    "    7: 0,\n",
    "    8: 0\n",
    "}\n",
    "\n",
    "# Fill with input values\n",
    "for i in input_fish_state:\n",
    "    fish_state[i] += 1\n",
    "\n",
    "# Simulates a number of days over the input states\n",
    "def simulate_days(i_state: Dict[int, int], days: int) -> Dict[int, int]:\n",
    "    # Copy to not modify the reference\n",
    "    for day in range(0, days):\n",
    "        # Retreive the amount of 0 state\n",
    "        how_much_is_the_fish = i_state[0]\n",
    "        # Iterate over each state and move the amount of values \n",
    "        # from the ascending state to the actual state\n",
    "        for state in range(0, 8):\n",
    "            i_state[state] = i_state[state + 1]\n",
    "        \n",
    "        # Reset fishes and new fishes\n",
    "        i_state[8] = how_much_is_the_fish\n",
    "        i_state[6] += how_much_is_the_fish\n",
    "    return i_state\n",
    "\n",
    "# Sum the number of fishes after 80 days        \n",
    "result = sum(simulate_days(fish_state, 80).values())\n",
    "print(result)\n",
    "\n",
    "assert result == 362666\n"
   ]
  },
  {
   "cell_type": "markdown",
   "id": "e8dd65b0",
   "metadata": {},
   "source": [
    "## Part 2"
   ]
  },
  {
   "cell_type": "code",
   "execution_count": 39,
   "id": "e82826dd",
   "metadata": {},
   "outputs": [
    {
     "name": "stdout",
     "output_type": "stream",
     "text": [
      "1640526601595\n"
     ]
    }
   ],
   "source": [
    "# Sum the number of fishes after 256 days\n",
    "# Already calculated the first 80 days, therefore we can use it\n",
    "result = sum(simulate_days(fish_state, 256 - 80).values())\n",
    "print(result)\n",
    "\n",
    "assert result == 1640526601595"
   ]
  },
  {
   "cell_type": "markdown",
   "id": "1fa9e422",
   "metadata": {},
   "source": [
    "# Day 7"
   ]
  },
  {
   "cell_type": "markdown",
   "id": "dd1e7baf",
   "metadata": {},
   "source": [
    "## Part 1"
   ]
  },
  {
   "cell_type": "code",
   "execution_count": 6,
   "id": "b7e8d657",
   "metadata": {},
   "outputs": [
    {
     "name": "stdout",
     "output_type": "stream",
     "text": [
      "352997.0\n"
     ]
    }
   ],
   "source": [
    "import statistics\n",
    "\n",
    "input_file = \"./inputs/input-7.txt\"\n",
    "\n",
    "with open(input_file) as f:\n",
    "    horizontal_positions = [int(x) for x in f.readline().rstrip().split(\",\")]\n",
    "\n",
    "median = statistics.median(horizontal_positions)\n",
    "fuel_costs = sum([abs(x - median) for x in horizontal_positions])\n",
    "\n",
    "result = fuel_costs\n",
    "print(result)\n",
    "assert result == 352997"
   ]
  },
  {
   "cell_type": "markdown",
   "id": "2e241002",
   "metadata": {},
   "source": [
    "## Part 2"
   ]
  },
  {
   "cell_type": "code",
   "execution_count": 15,
   "id": "016078ad",
   "metadata": {},
   "outputs": [
    {
     "name": "stdout",
     "output_type": "stream",
     "text": [
      "101571302.0\n"
     ]
    }
   ],
   "source": [
    "import statistics\n",
    "\n",
    "def calculate_fuel(positions, target):\n",
    "    return sum(abs(x - target) * (abs(x - target) + 1) / 2 for x in positions)\n",
    "\n",
    "mean = int(statistics.mean(horizontal_positions))\n",
    "fuel_costs = min([calculate_fuel(horizontal_positions, t) for t in range(mean, mean + 1)])\n",
    "\n",
    "result = fuel_costs\n",
    "print(result)\n",
    "assert result == 101571302"
   ]
  },
  {
   "cell_type": "markdown",
   "id": "3ccd3675",
   "metadata": {},
   "source": [
    "# Day 8"
   ]
  },
  {
   "cell_type": "markdown",
   "id": "b6e64429",
   "metadata": {},
   "source": [
    "## Part 1"
   ]
  },
  {
   "cell_type": "code",
   "execution_count": 4,
   "id": "47da6fd3",
   "metadata": {},
   "outputs": [
    {
     "name": "stdout",
     "output_type": "stream",
     "text": [
      "365\n"
     ]
    }
   ],
   "source": [
    "input_file = \"inputs/input-8.txt\"\n",
    "\n",
    "count_numbers = { 0: 0, 1: 0, 2: 0, 3: 0, 4: 0, 5: 0, 6: 0, 7: 0, 8: 0, 9: 0 }\n",
    "\n",
    "with open(input_file) as f:\n",
    "    for line in f.readlines():\n",
    "        input, output = map(str.split, line.split('|'))\n",
    "        for signal in output:\n",
    "            match len(signal):\n",
    "                case 2:\n",
    "                    count_numbers[1] += 1\n",
    "                case 3:\n",
    "                    count_numbers[7] += 1\n",
    "                case 4:\n",
    "                    count_numbers[4] += 1\n",
    "                case 7:\n",
    "                    count_numbers[8] += 1\n",
    "\n",
    "result = sum([count_numbers[1], count_numbers[4], count_numbers[7], count_numbers[8]])\n",
    "print(result)\n",
    "\n",
    "assert result == 365\n"
   ]
  },
  {
   "cell_type": "markdown",
   "id": "88782ece",
   "metadata": {},
   "source": [
    "## Part 2"
   ]
  },
  {
   "cell_type": "code",
   "execution_count": 87,
   "id": "161f4f06",
   "metadata": {},
   "outputs": [
    {
     "name": "stdout",
     "output_type": "stream",
     "text": [
      "975706\n"
     ]
    }
   ],
   "source": [
    "def find_segments(signals):\n",
    "    segments = { 0: set(), 1: set(), 2: set(), 3: set(), 4: set(), 5: set(), 6: set(), 7: set(), 8: set(), 9: set() }\n",
    "    for signal in signals:\n",
    "        match len(signal):\n",
    "            case 2:\n",
    "                segments[1] = set(signal)\n",
    "            case 3:\n",
    "                segments[7] = set(signal)\n",
    "            case 4:\n",
    "                segments[4] = set(signal)\n",
    "            case 7:\n",
    "                segments[8] = set(signal)    \n",
    "    for signal in signals:\n",
    "        match len(signal):\n",
    "            case 5:\n",
    "                if len(segments[7].intersection(signal)) == 3:\n",
    "                    segments[3] = set(signal)\n",
    "                elif len(segments[4].intersection(signal)) == 3:\n",
    "                    segments[5] = set(signal)\n",
    "                else:\n",
    "                    segments[2] = set(signal)\n",
    "            case 6:\n",
    "                if len(segments[4].intersection(signal)) == 4:\n",
    "                    segments[9] = set(signal)\n",
    "                elif len(segments[7].intersection(signal)) == 3:\n",
    "                    segments[0] = set(signal)\n",
    "                else:\n",
    "                    segments[6] = set(signal)\n",
    "    return segments\n",
    "\n",
    "def single_signal_to_number(signal, segments):\n",
    "    for key, val in segments.items():\n",
    "        if len(val.symmetric_difference(signal)) == 0:\n",
    "            return key\n",
    "\n",
    "def to_number(output_signals, segments):\n",
    "    assert len(output_signals) == 4\n",
    "    number = 0\n",
    "    for idx, val in enumerate(output_signals):\n",
    "        n = single_signal_to_number(val, segments)\n",
    "        number += n * 10 ** (3 - idx)\n",
    "    return number\n",
    "\n",
    "result = 0\n",
    "for line in open(input_file).readlines():\n",
    "    input, output = map(str.split, line.split('|'))\n",
    "    segments = find_segments(input)\n",
    "    result += to_number(output, segments)\n",
    "\n",
    "print(result)\n",
    "assert result == 975706\n",
    "                "
   ]
  },
  {
   "cell_type": "markdown",
   "id": "dd5a05be",
   "metadata": {},
   "source": [
    "# Day 9"
   ]
  },
  {
   "cell_type": "markdown",
   "id": "0e920256",
   "metadata": {},
   "source": [
    "## Part 1"
   ]
  },
  {
   "cell_type": "code",
   "execution_count": 3,
   "id": "95a059de",
   "metadata": {},
   "outputs": [
    {
     "name": "stdout",
     "output_type": "stream",
     "text": [
      "631\n"
     ]
    }
   ],
   "source": [
    "input_file = \"./inputs/input-9.txt\"\n",
    "\n",
    "with open(input_file) as f:\n",
    "    values = [[int(letter) for letter in line.rstrip()] for line in f.readlines()]\n",
    "\n",
    "def get_adjacent_coords(x, y):\n",
    "    coords = set()\n",
    "    if x > 0:\n",
    "        coords.add((x - 1, y))\n",
    "    if x < len(values[y]) - 1:\n",
    "        coords.add((x + 1, y))\n",
    "    if y > 0:\n",
    "        coords.add((x, y - 1))\n",
    "    if y < len(values) - 1:\n",
    "        coords.add((x, y + 1))\n",
    "    return coords\n",
    "\n",
    "low_points = []\n",
    "\n",
    "for y in range(0, len(values)):\n",
    "    for x in range(0, len(values[y])):\n",
    "        if values[y][x] < min([values[y1][x1] for x1, y1 in get_adjacent_coords(x, y)]):\n",
    "            low_points.append((x, y))\n",
    "\n",
    "result = sum([values[y][x] + 1 for x, y in low_points])\n",
    "print(result)\n",
    "assert result == 631"
   ]
  },
  {
   "cell_type": "markdown",
   "id": "76c5db0d",
   "metadata": {},
   "source": [
    "## Part 2"
   ]
  },
  {
   "cell_type": "code",
   "execution_count": 19,
   "id": "192f088b",
   "metadata": {},
   "outputs": [
    {
     "name": "stdout",
     "output_type": "stream",
     "text": [
      "821560\n"
     ]
    }
   ],
   "source": [
    "import math\n",
    "\n",
    "def get_basin_adjacent_coords(x, y):\n",
    "    return [(x1, y1) for x1, y1 in get_adjacent_coords(x, y) if values[y1][x1] > values[y][x] and values[y1][x1] != 9]\n",
    "\n",
    "def get_basin(x, y):\n",
    "    basin = {(x, y)}\n",
    "    for x1, y1 in get_basin_adjacent_coords(x, y):\n",
    "        if (x1, y1) not in basin:\n",
    "            basin = basin.union({(x1,y1)}).union(get_basin(x1, y1))\n",
    "    return basin\n",
    "            \n",
    "basins = [get_basin(x, y) for x, y in low_points]\n",
    "largest_three = sorted(basins, key=lambda x: len(x), reverse=True)[:3]\n",
    "\n",
    "result = math.prod([len(x) for x in largest_three])\n",
    "print(result)\n",
    "assert result == 821560"
   ]
  },
  {
   "cell_type": "markdown",
   "id": "f3c021f2",
   "metadata": {},
   "source": [
    "# Day 10"
   ]
  },
  {
   "cell_type": "markdown",
   "id": "d03a0b0a",
   "metadata": {},
   "source": [
    "## Part 1"
   ]
  },
  {
   "cell_type": "code",
   "execution_count": 26,
   "id": "da5abdfc",
   "metadata": {},
   "outputs": [
    {
     "name": "stdout",
     "output_type": "stream",
     "text": [
      "358737\n"
     ]
    }
   ],
   "source": [
    "from collections import deque\n",
    "\n",
    "input_file = \"inputs/input-10.txt\"\n",
    "\n",
    "braces = {\n",
    "    \"(\": \")\",\n",
    "    \"[\": \"]\",\n",
    "    \"{\": \"}\",\n",
    "    \"<\": \">\"\n",
    "}\n",
    "\n",
    "invalid_braces = []\n",
    "invalid_lines = []\n",
    "\n",
    "for idx, line in enumerate(open(input_file).readlines()):\n",
    "    opening_braces = deque()\n",
    "    for c in line.rstrip():\n",
    "        if c in braces:\n",
    "            opening_braces.append(c)\n",
    "        elif c in braces.values():\n",
    "            last_opening_brace = opening_braces.pop()\n",
    "            if c != braces[last_opening_brace]:\n",
    "                invalid_braces.append(c)\n",
    "                invalid_lines.append(idx)\n",
    "                break\n",
    "\n",
    "brace_value = {\n",
    "    \")\": 3,\n",
    "    \"]\": 57,\n",
    "    \"}\": 1197,\n",
    "    \">\": 25137\n",
    "}\n",
    "\n",
    "result = sum([brace_value[x] for x in invalid_braces])\n",
    "print(result)\n",
    "assert result == 358737"
   ]
  },
  {
   "cell_type": "markdown",
   "id": "80caad53",
   "metadata": {},
   "source": [
    "## Part 2"
   ]
  },
  {
   "cell_type": "code",
   "execution_count": 28,
   "id": "de5fa70f",
   "metadata": {},
   "outputs": [
    {
     "name": "stdout",
     "output_type": "stream",
     "text": [
      "4329504793\n"
     ]
    }
   ],
   "source": [
    "from functools import reduce\n",
    "\n",
    "appendences = []\n",
    "\n",
    "for idx, line in enumerate(open(input_file).readlines()):\n",
    "    # Skip invalid lines from part 1\n",
    "    if idx in invalid_lines:\n",
    "        continue\n",
    "    \n",
    "    opening_braces = deque()\n",
    "    for c in line.rstrip():\n",
    "        if c in braces:\n",
    "            opening_braces.append(c)\n",
    "        elif c in braces.values():\n",
    "            opening_braces.pop()\n",
    "    \n",
    "    appendences.append([braces[x] for x in opening_braces][::-1])\n",
    "\n",
    "brace_value = {\n",
    "    \")\": 1,\n",
    "    \"]\": 2,\n",
    "    \"}\": 3,\n",
    "    \">\": 4\n",
    "}\n",
    "\n",
    "def calculate_score(appendence):\n",
    "    return reduce(lambda acc, curr: acc * 5 + brace_value[curr], appendence, 0)\n",
    "\n",
    "scores = [calculate_score(x) for x in appendences]\n",
    "middle_score = sorted(scores)[int(len(scores) / 2)]\n",
    "\n",
    "result = middle_score\n",
    "print(result)\n",
    "assert result == 4329504793"
   ]
  },
  {
   "cell_type": "markdown",
   "id": "c0facf16",
   "metadata": {},
   "source": [
    "# Day 11"
   ]
  },
  {
   "cell_type": "markdown",
   "id": "af7ce05f",
   "metadata": {},
   "source": [
    "## Part 1"
   ]
  },
  {
   "cell_type": "code",
   "execution_count": null,
   "id": "abcdac9a",
   "metadata": {},
   "outputs": [],
   "source": []
  },
  {
   "cell_type": "markdown",
   "id": "a3c6d918",
   "metadata": {},
   "source": [
    "## Part 2"
   ]
  },
  {
   "cell_type": "code",
   "execution_count": null,
   "id": "0c0f2141",
   "metadata": {},
   "outputs": [],
   "source": []
  },
  {
   "cell_type": "markdown",
   "id": "e923dff5",
   "metadata": {},
   "source": [
    "# Day 12"
   ]
  },
  {
   "cell_type": "markdown",
   "id": "15c08ba9",
   "metadata": {},
   "source": [
    "## Part 1"
   ]
  },
  {
   "cell_type": "code",
   "execution_count": null,
   "id": "7c7e869e",
   "metadata": {},
   "outputs": [],
   "source": []
  },
  {
   "cell_type": "markdown",
   "id": "e7df388f",
   "metadata": {},
   "source": [
    "## Part 2"
   ]
  },
  {
   "cell_type": "code",
   "execution_count": null,
   "id": "102a96c9",
   "metadata": {},
   "outputs": [],
   "source": []
  },
  {
   "cell_type": "markdown",
   "id": "98d8226f",
   "metadata": {},
   "source": [
    "# Day 13"
   ]
  },
  {
   "cell_type": "markdown",
   "id": "6ac7de84",
   "metadata": {},
   "source": [
    "## Part 1"
   ]
  },
  {
   "cell_type": "code",
   "execution_count": null,
   "id": "d3104a08",
   "metadata": {},
   "outputs": [],
   "source": []
  },
  {
   "cell_type": "markdown",
   "id": "f887fd2f",
   "metadata": {},
   "source": [
    "## Part 2"
   ]
  },
  {
   "cell_type": "code",
   "execution_count": null,
   "id": "86267010",
   "metadata": {},
   "outputs": [],
   "source": []
  },
  {
   "cell_type": "markdown",
   "id": "cafd8756",
   "metadata": {},
   "source": [
    "# Day 14"
   ]
  },
  {
   "cell_type": "markdown",
   "id": "65475004",
   "metadata": {},
   "source": [
    "## Part 1"
   ]
  },
  {
   "cell_type": "code",
   "execution_count": null,
   "id": "57f29796",
   "metadata": {},
   "outputs": [],
   "source": []
  },
  {
   "cell_type": "markdown",
   "id": "34193161",
   "metadata": {},
   "source": [
    "## Part 2"
   ]
  },
  {
   "cell_type": "code",
   "execution_count": null,
   "id": "310b1ca8",
   "metadata": {},
   "outputs": [],
   "source": []
  },
  {
   "cell_type": "markdown",
   "id": "ebabe560",
   "metadata": {},
   "source": [
    "# Day 15"
   ]
  },
  {
   "cell_type": "markdown",
   "id": "0416b366",
   "metadata": {},
   "source": [
    "## Part 1"
   ]
  },
  {
   "cell_type": "code",
   "execution_count": null,
   "id": "517a2ab8",
   "metadata": {},
   "outputs": [],
   "source": []
  },
  {
   "cell_type": "markdown",
   "id": "d532222e",
   "metadata": {},
   "source": [
    "## Part 2"
   ]
  },
  {
   "cell_type": "code",
   "execution_count": null,
   "id": "a2006ab2",
   "metadata": {},
   "outputs": [],
   "source": []
  },
  {
   "cell_type": "markdown",
   "id": "23d15102",
   "metadata": {},
   "source": [
    "# Day 16"
   ]
  },
  {
   "cell_type": "markdown",
   "id": "b72c8c96",
   "metadata": {},
   "source": [
    "## Part 1"
   ]
  },
  {
   "cell_type": "code",
   "execution_count": null,
   "id": "d65879a2",
   "metadata": {},
   "outputs": [],
   "source": []
  },
  {
   "cell_type": "markdown",
   "id": "7bc5be2a",
   "metadata": {},
   "source": [
    "## Part 2"
   ]
  },
  {
   "cell_type": "code",
   "execution_count": null,
   "id": "26c61c42",
   "metadata": {},
   "outputs": [],
   "source": []
  },
  {
   "cell_type": "markdown",
   "id": "ab00932c",
   "metadata": {},
   "source": [
    "# Day 17"
   ]
  },
  {
   "cell_type": "markdown",
   "id": "a419c966",
   "metadata": {},
   "source": [
    "## Part 1"
   ]
  },
  {
   "cell_type": "code",
   "execution_count": null,
   "id": "29c11977",
   "metadata": {},
   "outputs": [],
   "source": []
  },
  {
   "cell_type": "markdown",
   "id": "d1426b2c",
   "metadata": {},
   "source": [
    "## Part 2"
   ]
  },
  {
   "cell_type": "code",
   "execution_count": null,
   "id": "e0fee2dc",
   "metadata": {},
   "outputs": [],
   "source": []
  },
  {
   "cell_type": "markdown",
   "id": "786de2a8",
   "metadata": {},
   "source": [
    "# Day 18"
   ]
  },
  {
   "cell_type": "markdown",
   "id": "be1b9b15",
   "metadata": {},
   "source": [
    "## Part 1"
   ]
  },
  {
   "cell_type": "code",
   "execution_count": null,
   "id": "4a631923",
   "metadata": {},
   "outputs": [],
   "source": []
  },
  {
   "cell_type": "markdown",
   "id": "9596f001",
   "metadata": {},
   "source": [
    "## Part 2"
   ]
  },
  {
   "cell_type": "code",
   "execution_count": null,
   "id": "b6994f7b",
   "metadata": {},
   "outputs": [],
   "source": []
  },
  {
   "cell_type": "markdown",
   "id": "fa500e60",
   "metadata": {},
   "source": [
    "# Day 19"
   ]
  },
  {
   "cell_type": "markdown",
   "id": "ed769278",
   "metadata": {},
   "source": [
    "## Part 1"
   ]
  },
  {
   "cell_type": "code",
   "execution_count": null,
   "id": "3c5b7b91",
   "metadata": {},
   "outputs": [],
   "source": []
  },
  {
   "cell_type": "markdown",
   "id": "4c364cfd",
   "metadata": {},
   "source": [
    "## Part 2"
   ]
  },
  {
   "cell_type": "code",
   "execution_count": null,
   "id": "65a836f8",
   "metadata": {},
   "outputs": [],
   "source": []
  },
  {
   "cell_type": "markdown",
   "id": "52eb8c43",
   "metadata": {},
   "source": [
    "# Day 20"
   ]
  },
  {
   "cell_type": "markdown",
   "id": "176bb3aa",
   "metadata": {},
   "source": [
    "## Part 1"
   ]
  },
  {
   "cell_type": "code",
   "execution_count": null,
   "id": "29fb7ef0",
   "metadata": {},
   "outputs": [],
   "source": []
  },
  {
   "cell_type": "markdown",
   "id": "499b36eb",
   "metadata": {},
   "source": [
    "## Part 2"
   ]
  },
  {
   "cell_type": "code",
   "execution_count": null,
   "id": "a2ad9349",
   "metadata": {},
   "outputs": [],
   "source": []
  },
  {
   "cell_type": "markdown",
   "id": "17d2953a",
   "metadata": {},
   "source": [
    "# Day 21"
   ]
  },
  {
   "cell_type": "markdown",
   "id": "e0b67cd9",
   "metadata": {},
   "source": [
    "## Part 1"
   ]
  },
  {
   "cell_type": "code",
   "execution_count": null,
   "id": "6021f14c",
   "metadata": {},
   "outputs": [],
   "source": []
  },
  {
   "cell_type": "markdown",
   "id": "6bda229e",
   "metadata": {},
   "source": [
    "## Part 2"
   ]
  },
  {
   "cell_type": "code",
   "execution_count": null,
   "id": "7486a9bd",
   "metadata": {},
   "outputs": [],
   "source": []
  },
  {
   "cell_type": "markdown",
   "id": "121c67b9",
   "metadata": {},
   "source": [
    "# Day 22"
   ]
  },
  {
   "cell_type": "markdown",
   "id": "af37e8e8",
   "metadata": {},
   "source": [
    "## Part 1"
   ]
  },
  {
   "cell_type": "code",
   "execution_count": null,
   "id": "9539c170",
   "metadata": {},
   "outputs": [],
   "source": []
  },
  {
   "cell_type": "markdown",
   "id": "108ba8eb",
   "metadata": {},
   "source": [
    "## Part 2"
   ]
  },
  {
   "cell_type": "code",
   "execution_count": null,
   "id": "ab920a90",
   "metadata": {},
   "outputs": [],
   "source": []
  },
  {
   "cell_type": "markdown",
   "id": "f0705d0c",
   "metadata": {},
   "source": [
    "# Day 23"
   ]
  },
  {
   "cell_type": "markdown",
   "id": "ae5dceb7",
   "metadata": {},
   "source": [
    "## Part 1"
   ]
  },
  {
   "cell_type": "code",
   "execution_count": null,
   "id": "e730f997",
   "metadata": {},
   "outputs": [],
   "source": []
  },
  {
   "cell_type": "markdown",
   "id": "d1efce91",
   "metadata": {},
   "source": [
    "## Part 2"
   ]
  },
  {
   "cell_type": "code",
   "execution_count": null,
   "id": "438e8c95",
   "metadata": {},
   "outputs": [],
   "source": []
  },
  {
   "cell_type": "markdown",
   "id": "9d30165e",
   "metadata": {},
   "source": [
    "# Day 24"
   ]
  },
  {
   "cell_type": "markdown",
   "id": "1364715d",
   "metadata": {},
   "source": [
    "## Part 1"
   ]
  },
  {
   "cell_type": "code",
   "execution_count": null,
   "id": "52305949",
   "metadata": {},
   "outputs": [],
   "source": []
  },
  {
   "cell_type": "markdown",
   "id": "ddcc951a",
   "metadata": {},
   "source": [
    "## Part 2"
   ]
  },
  {
   "cell_type": "code",
   "execution_count": null,
   "id": "76848780",
   "metadata": {},
   "outputs": [],
   "source": []
  },
  {
   "cell_type": "markdown",
   "id": "8b5d74a8",
   "metadata": {},
   "source": [
    "# Day 25"
   ]
  },
  {
   "cell_type": "markdown",
   "id": "d9ebdbf9",
   "metadata": {},
   "source": [
    "## Part 1"
   ]
  },
  {
   "cell_type": "code",
   "execution_count": null,
   "id": "11959570",
   "metadata": {},
   "outputs": [],
   "source": []
  },
  {
   "cell_type": "markdown",
   "id": "6de1d855",
   "metadata": {},
   "source": [
    "## Part 2"
   ]
  },
  {
   "cell_type": "code",
   "execution_count": null,
   "id": "92540817",
   "metadata": {},
   "outputs": [],
   "source": []
  },
  {
   "cell_type": "code",
   "execution_count": null,
   "id": "965c4852",
   "metadata": {},
   "outputs": [],
   "source": []
  }
 ],
 "metadata": {
  "kernelspec": {
   "display_name": "Python 3 (ipykernel)",
   "language": "python",
   "name": "python3"
  },
  "language_info": {
   "codemirror_mode": {
    "name": "ipython",
    "version": 3
   },
   "file_extension": ".py",
   "mimetype": "text/x-python",
   "name": "python",
   "nbconvert_exporter": "python",
   "pygments_lexer": "ipython3",
   "version": "3.10.0"
  }
 },
 "nbformat": 4,
 "nbformat_minor": 5
}
